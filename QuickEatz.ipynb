{
 "cells": [
  {
   "cell_type": "markdown",
   "metadata": {},
   "source": [
    "Food Ordering App"
   ]
  },
  {
   "cell_type": "markdown",
   "metadata": {},
   "source": [
    "Defining the global variables"
   ]
  },
  {
   "cell_type": "code",
   "execution_count": 1,
   "metadata": {},
   "outputs": [],
   "source": [
    "app_name = 'Quick Eatz'"
   ]
  },
  {
   "cell_type": "code",
   "execution_count": 2,
   "metadata": {},
   "outputs": [],
   "source": [
    "#using a nested dictionary for the menu\n",
    "menu = {\n",
    "    \"sku1\": {\n",
    "        \"name\": \"Hamburger\",\n",
    "        \"price\": 6.49\n",
    "    },\n",
    "    \"sku2\": {\n",
    "        \"name\": \"Cheeseburger\",\n",
    "        \"price\": 7.49\n",
    "    },\n",
    "    \"sku3\": {\n",
    "        \"name\": \"Cheeseburger w/ bacon\",\n",
    "        \"price\": 8.49\n",
    "    },\n",
    "    \"sku4\": {\n",
    "        \"name\": \"Fries\",\n",
    "        \"price\": 2.49\n",
    "    },\n",
    "    \"sku5\": {\n",
    "        \"name\": \"Mozerella Sticks\",\n",
    "        \"price\": 5.99\n",
    "    },\n",
    "    \"sku6\": {\n",
    "        \"name\": \"Chicken Tenders\",\n",
    "        \"price\": 7.49\n",
    "    },\n",
    "    \"sku7\": {\n",
    "        \"name\": \"Fountain Drink\",\n",
    "        \"price\": 2.99\n",
    "    },\n",
    "    \"sku8\": {\n",
    "        \"name\": \"Chicken Sandwich\",\n",
    "        \"price\": 6.49\n",
    "    },\n",
    "    \"sku9\": {\n",
    "        \"name\": \"Fish Sandwich\",\n",
    "        \"price\": 6.49\n",
    "    },\n",
    "    \"sku10\": {\n",
    "        \"name\": \"Nachos\",\n",
    "        \"price\": 6.99\n",
    "        }\n",
    "}\n",
    "app_actions = {\n",
    "    \"1\": \"Add a new menu item to cart\",\n",
    "    \"2\": \"Remove an item from the cart\",\n",
    "    \"3\": \"Modify a cart item's quantity\",\n",
    "    \"4\": \"View cart\",\n",
    "    \"5\": \"Checkout\",\n",
    "    \"6\": \"Exit\"\n",
    "}\n",
    "# We can use a global constant here since the sale tax will remain unchanged\n",
    "sales_tax_rate = 0.06\n",
    "cart = {}"
   ]
  },
  {
   "cell_type": "markdown",
   "metadata": {},
   "source": [
    "Displaying the Menu"
   ]
  },
  {
   "cell_type": "code",
   "execution_count": 3,
   "metadata": {},
   "outputs": [],
   "source": [
    "def display_menu():\n",
    "    \"\"\"Displays all menu item SKUs, names, and prices.\"\"\"\n",
    "    # Display a header message\n",
    "    print(\"\\n****Menu****\\n\")\n",
    "    for sku in menu:\n",
    "        # Slice the leading 'sku' string to retrieve the number portion\n",
    "        parsed_sku = sku[3:]\n",
    "        item = menu[sku]['name']\n",
    "        price = menu[sku]['price']\n",
    "        print(\"(\" + parsed_sku + \")\" + \" \" + item + \": $\" + str(price))\n",
    "    print(\"\\n\")"
   ]
  },
  {
   "cell_type": "markdown",
   "metadata": {},
   "source": [
    "Adding Items to Cart"
   ]
  },
  {
   "cell_type": "code",
   "execution_count": 4,
   "metadata": {},
   "outputs": [],
   "source": [
    "def add_to_cart(sku, quantity=1):\n",
    "    \"\"\"\n",
    "    Add an item and its quantity to the cart.\n",
    "    \n",
    "    :param string sku: The input SKU number being ordered.\n",
    "    :param int quantity: The input quantity being ordered.\n",
    "    \"\"\"\n",
    "    if sku in menu:\n",
    "        if sku in cart:\n",
    "            cart[sku] += quantity\n",
    "        else:\n",
    "            cart[sku] = quantity\n",
    "        print(\"Added \", quantity, \" of \", menu[sku]['name'], \" to the cart.\")\n",
    "    else:\n",
    "        print(\"I'm sorry. The menu number\", sku, \"that you entered is not on the menu.\")"
   ]
  },
  {
   "cell_type": "markdown",
   "metadata": {},
   "source": [
    "Removing Items From the Cart"
   ]
  },
  {
   "cell_type": "code",
   "execution_count": 5,
   "metadata": {},
   "outputs": [],
   "source": [
    "def remove_from_cart(sku):\n",
    "    \"\"\"\n",
    "    Remove an item from the cart.\n",
    "    \n",
    "    :param string sku: The input SKU number to remove from the cart.\n",
    "    \"\"\"\n",
    "    if sku in cart:\n",
    "        cart.pop(sku)\n",
    "        print(f\"Removed\", menu[sku]['name'], \"from the cart.\")\n",
    "    else:\n",
    "        print(f\"I'm sorry. The item with SKU {sku} is not currently in the cart.\")"
   ]
  },
  {
   "cell_type": "markdown",
   "metadata": {},
   "source": [
    "Modifying Items in the Cart"
   ]
  },
  {
   "cell_type": "code",
   "execution_count": 6,
   "metadata": {},
   "outputs": [],
   "source": [
    "def modify_cart(sku, quantity):\n",
    "    \"\"\"\n",
    "    Modify an item's quantity in the cart.\n",
    "    \n",
    "    :param string sku: The input SKU number being modified.\n",
    "    :param int quantity: The input new quantity to use for the SKU.\n",
    "    \"\"\"\n",
    "    if sku in cart:\n",
    "        if quantity > 0:\n",
    "            cart[sku] = quantity\n",
    "            print(\"Modified\", menu[sku]['name'], \"quantity to \", quantity, \" in the cart.\")\n",
    "        else:\n",
    "            # Call the previously defined function to remove a SKU from the cart\n",
    "            remove_from_cart(sku)\n",
    "    else:\n",
    "        print(f\"I'm sorry.\", menu[sku]['name'], \"is not currently in the cart.\")"
   ]
  },
  {
   "cell_type": "markdown",
   "metadata": {},
   "source": [
    "Viewing Cart Contents"
   ]
  },
  {
   "cell_type": "code",
   "execution_count": 7,
   "metadata": {},
   "outputs": [],
   "source": [
    "def view_cart():\n",
    "    \"\"\"\n",
    "    Display the menu item names and quanitites inside \n",
    "    the cart.\n",
    "    \"\"\"\n",
    "    # Display a header message\n",
    "    print(\"\\n****Cart Contents****\\n\")\n",
    "    subtotal = 0\n",
    "    for sku in cart:\n",
    "        if sku in menu:\n",
    "            quantity  = cart[sku]\n",
    "            subtotal += menu[sku][\"price\"] * quantity\n",
    "            print(quantity, \" x \", menu[sku][\"name\"])\n",
    "    tax = subtotal * sales_tax_rate\n",
    "    total = subtotal + tax\n",
    "    print(\"Total: $\", round(total, 2))\n",
    "    print(\"\\n\")"
   ]
  },
  {
   "cell_type": "markdown",
   "metadata": {},
   "source": [
    "Checking Out"
   ]
  },
  {
   "cell_type": "code",
   "execution_count": 8,
   "metadata": {},
   "outputs": [],
   "source": [
    "def checkout():\n",
    "    \"\"\"Display the subtotal information for the user to checkout\"\"\"\n",
    "    # Display a header message\n",
    "    print(\"\\n****Checkout****\\n\")\n",
    "    # Call the previously defined function to view the cart contents\n",
    "    view_cart()\n",
    "    print(\"Thank you for your order! Goodbye!\")\n",
    "    print(\"\\n\")"
   ]
  },
  {
   "cell_type": "markdown",
   "metadata": {},
   "source": [
    "Getting User Input"
   ]
  },
  {
   "cell_type": "code",
   "execution_count": 9,
   "metadata": {},
   "outputs": [],
   "source": [
    "def get_sku_and_quantity(sku_prompt, quantity_prompt=None):\n",
    "    \"\"\"\n",
    "    Get input from the user.\n",
    "    \n",
    "    :param string sku_prompt: A string representing the prompt to display to the user before they enter the SKU number.\n",
    "    :param string quantity_prompt: A string representing the prompt to display to the user before they enter the quantity.\n",
    "        This defaults to None for cases where quanitity input is not needed.\n",
    "        \n",
    "    :returns: The full sku# value and the quantity (in certain cases)\n",
    "    \"\"\"\n",
    "    # Use the SKU prompt to get input from the user\n",
    "    item_sku = input(sku_prompt)\n",
    "    # String concatenate \"sku\" to the beginning of the entered SKU number\n",
    "    item_sku = \"sku\" + item_sku\n",
    "    # If the quantity prompt is provided, we should get input from the user \n",
    "    if quantity_prompt:\n",
    "        # Use the quantity prompt to get input from the user\n",
    "        quantity = input(quantity_prompt)\n",
    "        # If the user typed a non-digit value, default quantity to 1\n",
    "        if not quantity.isdigit():\n",
    "            quantity = 1\n",
    "        quantity = int(quantity)\n",
    "\n",
    "        return item_sku, quantity\n",
    "    # Quantity prompt is None meaning we do not need to get input for quantity\n",
    "    else:\n",
    "        return item_sku"
   ]
  },
  {
   "cell_type": "markdown",
   "metadata": {},
   "source": [
    "Create App Ordering Loop"
   ]
  },
  {
   "cell_type": "code",
   "execution_count": 10,
   "metadata": {},
   "outputs": [],
   "source": [
    "def order_loop():\n",
    "    \"\"\"Loop ordering actions until checkout or exit\"\"\"\n",
    "    # Display a welcome message to the user\n",
    "    print(\"Welcome to\" + app_name + \"!\")\n",
    "    # Set the conditional boolean variable that will be used to determine if the while loop\n",
    "    # continues running or whether it should terminate\n",
    "    ordering = True\n",
    "    while ordering:\n",
    "        # Display the app ordering actions\n",
    "        print(\"\\n****Ordering Actions****\\n\")\n",
    "        for number in app_actions:\n",
    "            description = app_actions[number]\n",
    "            print(\"(\" + number + \")\", description)\n",
    "        \n",
    "        response = input(\"Please enter the number of the action you want to take: \")\n",
    "        if response == \"1\":\n",
    "            # User wants to order a menu item. Prompt them for SKU and quantity.\n",
    "            display_menu()\n",
    "            sku_prompt = \"Please enter the SKU number for the menu item you want to order: \"\n",
    "            quantity_prompt = \"Please enter the quantity you want to order [default is 1]: \"\n",
    "            ordered_sku, quantity = get_sku_and_quantity(sku_prompt, quantity_prompt)\n",
    "            add_to_cart(ordered_sku, quantity)\n",
    "        elif response == \"2\":\n",
    "            # User wants to remove an item from the cart. Prompt them for SKU only.\n",
    "            display_menu()\n",
    "            sku_prompt = \"Please enter the SKU number for the menu item you want to remove: \"\n",
    "            item_sku = get_sku_and_quantity(sku_prompt)\n",
    "            remove_from_cart(item_sku)\n",
    "        elif response == \"3\":\n",
    "            # User wants to modify an item quantity in the cart. Prompt them for SKU and quantity.\n",
    "            display_menu()\n",
    "            sku_prompt = \"Please enter the SKU number for the menu item you want to modify: \"\n",
    "            quantity_prompt = \"Please enter the quantity you want to change to [default is 1]: \"\n",
    "            item_sku, quantity = get_sku_and_quantity(sku_prompt, quantity_prompt)\n",
    "            modify_cart(item_sku, quantity)\n",
    "        elif response == \"4\":\n",
    "            # User wants to view the current cart contents. No user input needed.\n",
    "            view_cart()\n",
    "        elif response == \"5\":\n",
    "            # User wants to checkout. No user input needed. Terminate the while loop after displaying.\n",
    "            checkout()\n",
    "            ordering = False\n",
    "        elif response == \"6\":\n",
    "            # User wants to exit before ordering. No user input needed. Terminate the while loop.\n",
    "            print(\"Goodbye!\")\n",
    "            ordering = False\n",
    "        else:\n",
    "            # User has entered an invalid action number. Display a message.\n",
    "            print(\"You have entered an invalid action number. Please try again.\")"
   ]
  },
  {
   "cell_type": "markdown",
   "metadata": {},
   "source": [
    "Test the Ordering App!"
   ]
  },
  {
   "cell_type": "code",
   "execution_count": null,
   "metadata": {},
   "outputs": [
    {
     "name": "stdout",
     "output_type": "stream",
     "text": [
      "Welcome toQuick Eatz!\n",
      "\n",
      "****Ordering Actions****\n",
      "\n",
      "(1) Add a new menu item to cart\n",
      "(2) Remove an item from the cart\n",
      "(3) Modify a cart item's quantity\n",
      "(4) View cart\n",
      "(5) Checkout\n",
      "(6) Exit\n"
     ]
    }
   ],
   "source": [
    "order_loop()"
   ]
  },
  {
   "cell_type": "code",
   "execution_count": null,
   "metadata": {},
   "outputs": [],
   "source": []
  }
 ],
 "metadata": {
  "kernelspec": {
   "display_name": "Python 3 (ipykernel)",
   "language": "python",
   "name": "python3"
  },
  "language_info": {
   "codemirror_mode": {
    "name": "ipython",
    "version": 3
   },
   "file_extension": ".py",
   "mimetype": "text/x-python",
   "name": "python",
   "nbconvert_exporter": "python",
   "pygments_lexer": "ipython3",
   "version": "3.10.6"
  },
  "toc-autonumbering": true,
  "toc-showcode": true,
  "toc-showmarkdowntxt": true
 },
 "nbformat": 4,
 "nbformat_minor": 4
}

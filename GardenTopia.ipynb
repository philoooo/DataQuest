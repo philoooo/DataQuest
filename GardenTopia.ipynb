{
 "cells": [
  {
   "cell_type": "markdown",
   "id": "ae57ecc3-06d5-4810-a318-347a945557ee",
   "metadata": {},
   "source": [
    "Garden-Topia: Garden Simulator Text Based Game"
   ]
  },
  {
   "cell_type": "markdown",
   "id": "5313458c-ad96-4f39-9331-64780bf0a236",
   "metadata": {},
   "source": [
    "In this game, the player will have a simulated gardening experience of planting, growing and harvesting virtual plants!\n",
    "\n",
    "The player can select which plants they want to grow, tend to their growth, and finally harvest them!\n",
    "\n",
    "In the game, there will be various stages of plant growth(from seeds to mature plants), so the player will be to care for their plants at each stage!"
   ]
  },
  {
   "cell_type": "markdown",
   "id": "5b51eedb-bc4c-4eaf-bf3a-b2954b748669",
   "metadata": {},
   "source": [
    "Game Features:\n",
    "\n",
    "Planting: Choose a plant from your inventory and plant it.\n",
    "\n",
    "Tending: Care for your plants to help them grow.\n",
    "\n",
    "Harvesting: Once a plant is mature, harvest it to add to your inventory.\n",
    "\n",
    "Foraging: Look for new seeds to expand your plant collection."
   ]
  },
  {
   "cell_type": "code",
   "execution_count": 1,
   "id": "40f18b12-773e-43ab-b127-07d2c192c47e",
   "metadata": {},
   "outputs": [],
   "source": [
    "import random"
   ]
  },
  {
   "cell_type": "code",
   "execution_count": 2,
   "id": "9f2ff01d-89c3-40e3-b519-48a420c591c4",
   "metadata": {},
   "outputs": [],
   "source": [
    "class Plant:\n",
    "    def __init__(self, name, harvest_yield):\n",
    "        self.name = name\n",
    "        self.harvest_yield = harvest_yield\n",
    "        self.growth_stages = [\"seed\", \"sprout\", \"mature\", \"flower\", \"fruit\", \"harvest-ready\"]\n",
    "        self.current_growth_stage = self.growth_stages[0] # Initial growth stage is seed\n",
    "        self.harvestable = False\n",
    "\n",
    "    def grow(self):\n",
    "        current_index = self.growth_stages.index(self.current_growth_stage)\n",
    "        if self.current_growth_stage == self.growth_stages[-1]:\n",
    "            print(f\"{self.name} is already fully grown!\")\n",
    "        elif current_index < len(self.growth_stages) - 1:\n",
    "            self.current_growth_stage = self.growth_stages[current_index + 1]\n",
    "            if self.current_growth_stage == \"harvest-ready\":\n",
    "                self.harvestable = True\n",
    "\n",
    "    def harvest(self):\n",
    "        if self.harvestable:\n",
    "            self.harvestable = False\n",
    "            return self.harvest_yield\n",
    "        else:\n",
    "            return None"
   ]
  },
  {
   "cell_type": "code",
   "execution_count": 3,
   "id": "dc24be2a-50f1-4575-b56e-27a1364e8274",
   "metadata": {},
   "outputs": [],
   "source": [
    "class Tomato(Plant):\n",
    "    def __init__(self):\n",
    "        super().__init__(\"Sunburst Tomato\", 10)\n",
    "                     \n",
    "class Lettuce(Plant):\n",
    "    def __init__(self):\n",
    "        super().__init__(\"Laughing Lettuce\", 5)\n",
    "        self.growth_stages = [\"seed\", \"sprout\", \"mature\", \"harvest-ready\"]\n",
    "                          \n",
    "class Cucumber(Plant):\n",
    "    def __init__(self):\n",
    "        super().__init__(\"Coolcumber\", 8)\n",
    "                          \n",
    "class Weeds(Plant):\n",
    "    def __init__(self):\n",
    "        super().__init__(\"Unruly Weeds\", 3)\n",
    "        self.growth_stages = [\"seed\", \"sprout\", \"mature\", \"harvest-ready\"]\n",
    "    \n",
    "class Pomegranate(Plant):\n",
    "    def __init__(self):\n",
    "        super().__init__(\"Crystal Pomegranate\", 1)"
   ]
  },
  {
   "cell_type": "code",
   "execution_count": 4,
   "id": "1f2eb4f7-b2bc-4c75-89ab-d0986d9b3c25",
   "metadata": {},
   "outputs": [],
   "source": [
    "def select_item(items):\n",
    "    if type(items) == dict:\n",
    "        item_list = list(items.keys())\n",
    "    elif type(items) == list:\n",
    "        item_list = items\n",
    "    else:\n",
    "        print(\"Invalid item types\")\n",
    "        return None\n",
    "    \n",
    "    for i in range(len(item_list)):\n",
    "        try:\n",
    "            item_name = item_list[i].name\n",
    "        except:\n",
    "            item_name = item_list[i]\n",
    "            print(f\"{i + 1}. {item_name}\")\n",
    "    \n",
    "    while True:\n",
    "        user_input =  input(\"Select an item: \")\n",
    "        try:\n",
    "            user_input = int(user_input)\n",
    "            if 0 < user_input <= len(item_list):\n",
    "                return item_list[user_input - 1]\n",
    "            else:\n",
    "                print(\"Input is not valid.\")\n",
    "        except:\n",
    "            print(\"Input is not valid.\")"
   ]
  },
  {
   "cell_type": "code",
   "execution_count": 5,
   "id": "32149a45-121c-444d-b5a9-6ad82c8f6061",
   "metadata": {},
   "outputs": [],
   "source": [
    "class Gardener:\n",
    "    '''\n",
    "    User's player model, who can perform various ctions like planting, tending, and harvesting. \n",
    "    '''\n",
    "    plant_dict = {\"Sunburst Tomato\": Tomato, \"Laughing Lettuce\": Lettuce, \"Coolcumber\": Cucumber, \"Unruly Weeds\": Weeds, \"Crystal Pomegranate\": Pomegranate}\n",
    "\n",
    "    def __init__(self, name):\n",
    "        self.name = name\n",
    "        self.planted_plants = []\n",
    "        self.inventory = {}\n",
    "        \n",
    "    def plant(self):\n",
    "        selected_plant = select_item(self.inventory)\n",
    "        if selected_plant in self.inventory and self.inventory[selected_plant] > 0:\n",
    "            self.inventory[selected_plant] -= 1\n",
    "            if self.inventory[selected_plant] == 0:\n",
    "                del self.inventory[selected_plant]\n",
    "            new_plant = self.plant_dict[selected_plant]()\n",
    "            self.planted_plants.append(new_plant)\n",
    "            print(f\"Look! {self.name} just planted a {selected_plant} to plant!\")\n",
    "        else:\n",
    "            print(f\"Oh no! {self.name} doesn't have any more {selected_plant} to plant.\")\n",
    "        \n",
    "    def tend(self):\n",
    "        for plant in self.planted_plants:\n",
    "            if plant.harvestable:\n",
    "                print(f\"{plant.name} is ready to be harvested!\")\n",
    "            else:\n",
    "                plant.grow()\n",
    "                print(f\"{plant.name} is now a {plant.current_growth_stage}!\")\n",
    "                \n",
    "    def harvest(self):\n",
    "        selected_plant = select_item(self.planted_plants)\n",
    "        if selected_plant.harvestable == True:\n",
    "            if selected_plant.name in self.inventory:\n",
    "                self.inventory[selected_plant.name] += selected_plant.harvest()\n",
    "            else:\n",
    "                self.inventory[selected_plant.name] = selected_plant.harvest()\n",
    "            print(f\"You harvested a {selected_plant.name}!\")\n",
    "            self.planted_plants.remove(selected_plant)    \n",
    "        else:\n",
    "            print(f\"You can't harvest a {selected_plant.name}!\")\n",
    "            \n",
    "    def forage_for_seeds(self):\n",
    "        seed = random.choice(all_plant_types)\n",
    "        if seed in self.inventory:\n",
    "            self.inventory[seed] += 1\n",
    "        else:\n",
    "            self.inventory[seed] = 1\n",
    "            print(f\"{self.name} found a {seed} seed!\")   "
   ]
  },
  {
   "cell_type": "code",
   "execution_count": null,
   "id": "82913ab2-f478-4845-9ee3-2d06b8de3610",
   "metadata": {},
   "outputs": [
    {
     "name": "stdout",
     "output_type": "stream",
     "text": [
      "Welcome to the garden! You will act as a virtual gardener.\n",
      "Forage for new seeds, plant them, and then watch them grow!\n",
      "Let's start by entering your name.\n"
     ]
    }
   ],
   "source": [
    "print(\"Welcome to the garden! You will act as a virtual gardener.\\nForage for new seeds, plant them, and then watch them grow!\\nLet's start by entering your name.\")\n",
    "\n",
    "all_plant_types = [\"Sunburst Tomato\", \"Laughing Lettuce\", \"Coolcumber\", \"Unruly Weeds\", \"Crystal Pomegranate\"]\n",
    "valid_actions = ['forage', 'plant', 'tend', 'harvest', 'help', 'quit']\n",
    "\n",
    "gardener_name = input(\"What is your name? \")\n",
    "print(f\"Welcome, {gardener_name}! Let's get gardening!\\nType 'help' for a list of commands.\")\n",
    "gardener = Gardener(gardener_name)\n",
    "\n",
    "while True:\n",
    "    player_action = input(\"What would you like to do?\")\n",
    "    player_action = player_action.lower()\n",
    "    if player_action in valid_actions:\n",
    "        if   player_action == 'plant':\n",
    "            gardener.plant()\n",
    "        elif player_action == 'tend':\n",
    "            gardener.tend()\n",
    "        elif player_action == 'forage':\n",
    "            gardener.forage_for_seeds()\n",
    "        elif player_action == 'harvest':\n",
    "            gardener.harvest()\n",
    "        elif player_action == 'help':\n",
    "            print(\"***Commands***\")\n",
    "            for commands in valid_actions:\n",
    "                print(commands)\n",
    "        elif player_action == 'quit':\n",
    "            print(\"Good bye, See you soon!\")\n",
    "            break\n",
    "        else:\n",
    "            print(\"Invalid Command. Type 'help' for a list of commands.\")"
   ]
  }
 ],
 "metadata": {
  "kernelspec": {
   "display_name": "Python 3 (ipykernel)",
   "language": "python",
   "name": "python3"
  },
  "language_info": {
   "codemirror_mode": {
    "name": "ipython",
    "version": 3
   },
   "file_extension": ".py",
   "mimetype": "text/x-python",
   "name": "python",
   "nbconvert_exporter": "python",
   "pygments_lexer": "ipython3",
   "version": "3.13.5"
  }
 },
 "nbformat": 4,
 "nbformat_minor": 5
}
